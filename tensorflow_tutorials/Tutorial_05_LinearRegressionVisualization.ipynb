{
 "cells": [
  {
   "cell_type": "markdown",
   "metadata": {
    "deletable": true,
    "editable": true
   },
   "source": [
    "# [Learning Machines](http://www.patrickhebron.com/learning-machines/index.html)\n",
    "\n",
    "###### Taught by [Patrick Hebron](http://www.patrickhebron.com) at [NYU/ITP](http://itp.nyu.edu), Fall 2017\n",
    "\n",
    "### TensorFlow Basics: \"Building, Training and Visualizing a Simple Neural Network\"\n",
    "\n",
    "****"
   ]
  },
  {
   "cell_type": "code",
   "execution_count": null,
   "metadata": {
    "collapsed": true,
    "deletable": true,
    "editable": true
   },
   "outputs": [],
   "source": [
    "# Import TensorFlow library:\n",
    "import tensorflow as tf\n",
    "\n",
    "# Import Numpy library:\n",
    "import numpy as np\n",
    "\n",
    "# Import Matplotlib pyplot library:\n",
    "import matplotlib.pyplot as plt"
   ]
  },
  {
   "cell_type": "code",
   "execution_count": null,
   "metadata": {
    "collapsed": false,
    "deletable": true,
    "editable": true
   },
   "outputs": [],
   "source": [
    "# Line equation:\n",
    "# y = slope * x + intercept\n",
    "\n",
    "# Set target slope and intercept:\n",
    "target_slope     =   12.0\n",
    "target_intercept =    7.0\n",
    "\n",
    "# Set training parameters:\n",
    "num_examples     =   25\n",
    "num_epochs       = 1000\n",
    "learning_rate    =    0.01\n",
    "\n",
    "# Create random noise:\n",
    "noise_level      = 5.0\n",
    "noise            = np.random.uniform( -noise_level, noise_level, size = num_examples )\n",
    "\n",
    "# Create training data:\n",
    "trainX           = np.linspace( 0.0, 10.0, num = num_examples )\n",
    "trainY           = target_slope * trainX + target_intercept + noise"
   ]
  },
  {
   "cell_type": "code",
   "execution_count": null,
   "metadata": {
    "collapsed": false,
    "deletable": true,
    "editable": true
   },
   "outputs": [],
   "source": [
    "# Create input placeholders:\n",
    "X                = tf.placeholder( tf.float32 )\n",
    "Y                = tf.placeholder( tf.float32 )\n",
    "\n",
    "# Create weight and bias variables:\n",
    "W                = tf.Variable( np.random.randn(), name=\"weight\" )\n",
    "b                = tf.Variable( np.random.randn(), name=\"bias\" )\n",
    "\n",
    "# Create prediction operation:\n",
    "predict          = tf.add( tf.multiply( X, W ), b )\n",
    "\n",
    "# Create mean squared error (MSE) cost function:\n",
    "cost             = tf.reduce_sum( tf.pow( predict - Y, 2.0 ) ) * ( 1.0 / num_examples )\n",
    "\n",
    "# Create gradient descent optimizer:\n",
    "optimizer        = tf.train.GradientDescentOptimizer( learning_rate ).minimize( cost )"
   ]
  },
  {
   "cell_type": "code",
   "execution_count": null,
   "metadata": {
    "collapsed": false,
    "deletable": true,
    "editable": true
   },
   "outputs": [],
   "source": [
    "# Create session:\n",
    "with tf.Session() as sess:\n",
    "    # Initialize global variables:\n",
    "    sess.run( tf.global_variables_initializer() )\n",
    "\n",
    "    # Iterate over each training epoch:\n",
    "    for epoch in range( num_epochs ):\n",
    "        # Iterate over each training pair:\n",
    "        for ( x, y ) in zip( trainX, trainY ):\n",
    "            # Run optimizer on training pair:\n",
    "            sess.run( optimizer, feed_dict = { X: x, Y: y } )\n",
    "\n",
    "        # Print stats:\n",
    "        if ( epoch + 1 ) % 25 == 0:\n",
    "            curr_cost = sess.run( cost, feed_dict = { X: trainX, Y: trainY } )\n",
    "            curr_W    = sess.run( W )\n",
    "            curr_b    = sess.run( b )\n",
    "            print \"Epoch:\", '%04d' % ( epoch + 1 ), \\\n",
    "                  \"cost=\", \"{:.4f}\".format( curr_cost ), \\\n",
    "                  \"W=\", \"{:.4f}\".format( curr_W ), \\\n",
    "                  \"b=\", \"{:.4f}\".format( curr_b )\n",
    "                \n",
    "    # Plot training data:\n",
    "    plt.plot( trainX, trainY, 'ro', label = 'Data' )\n",
    "    # Plot predictions:\n",
    "    plt.plot( trainX, trainX * sess.run( W ) + sess.run( b ), label = 'Prediction' )\n",
    "    # Plot legend:\n",
    "    plt.legend()\n",
    "    # Show plot:\n",
    "    plt.show()"
   ]
  },
  {
   "cell_type": "code",
   "execution_count": null,
   "metadata": {
    "collapsed": true,
    "deletable": true,
    "editable": true
   },
   "outputs": [],
   "source": []
  }
 ],
 "metadata": {
  "kernelspec": {
   "display_name": "Python 2",
   "language": "python",
   "name": "python2"
  },
  "language_info": {
   "codemirror_mode": {
    "name": "ipython",
    "version": 2
   },
   "file_extension": ".py",
   "mimetype": "text/x-python",
   "name": "python",
   "nbconvert_exporter": "python",
   "pygments_lexer": "ipython2",
   "version": "2.7.6"
  }
 },
 "nbformat": 4,
 "nbformat_minor": 2
}
