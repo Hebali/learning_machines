{
 "cells": [
  {
   "cell_type": "markdown",
   "metadata": {
    "deletable": true,
    "editable": true
   },
   "source": [
    "# [Learning Machines](http://www.patrickhebron.com/learning-machines/index.html)\n",
    "\n",
    "###### Taught by [Patrick Hebron](http://www.patrickhebron.com) at [NYU/ITP](http://itp.nyu.edu), Fall 2017\n",
    "\n",
    "### TensorFlow Basics: \"Loading Data\"\n",
    "\n",
    "****"
   ]
  },
  {
   "cell_type": "code",
   "execution_count": 1,
   "metadata": {
    "collapsed": true,
    "deletable": true,
    "editable": true
   },
   "outputs": [],
   "source": [
    "# Import TensorFlow library:\n",
    "import tensorflow as tf\n",
    "\n",
    "# Import matplotlib and numpy libraries (used to show image):\n",
    "%matplotlib inline\n",
    "from matplotlib.pyplot import imshow\n",
    "import numpy as np"
   ]
  },
  {
   "cell_type": "markdown",
   "metadata": {
    "deletable": true,
    "editable": true
   },
   "source": [
    "**Feeding Data from Python Code:**"
   ]
  },
  {
   "cell_type": "code",
   "execution_count": 2,
   "metadata": {
    "collapsed": false,
    "deletable": true,
    "editable": true
   },
   "outputs": [
    {
     "name": "stdout",
     "output_type": "stream",
     "text": [
      "[ 11.  22.  33.]\n",
      "[ 11.  22.  33.]\n"
     ]
    }
   ],
   "source": [
    "# Create python list constants:\n",
    "constantX       = [  1.0,  2.0,  3.0 ]\n",
    "constantY       = [ 10.0, 20.0, 30.0 ]\n",
    "\n",
    "# Create addition operation (for constants):\n",
    "addConstants    = tf.add( constantX, constantY )\n",
    "\n",
    "# Create session:\n",
    "with tf.Session() as sess:\n",
    "    # Run session on constants and print output:\n",
    "    print sess.run( addConstants )\n",
    "\n",
    "# Create placeholders:\n",
    "placeholderX    = tf.placeholder( tf.float32 )\n",
    "placeholderY    = tf.placeholder( tf.float32 )\n",
    "\n",
    "# Create addition operation (for placeholders):\n",
    "addPlaceholders = tf.add( placeholderX, placeholderY )\n",
    "\n",
    "# Create session:\n",
    "with tf.Session() as sess:\n",
    "     # Run session on placeholders and print output:\n",
    "    print sess.run( addPlaceholders, feed_dict={ placeholderX: constantX, placeholderY: constantY } )"
   ]
  },
  {
   "cell_type": "markdown",
   "metadata": {
    "deletable": true,
    "editable": true
   },
   "source": [
    "**Loading Data from File:**"
   ]
  },
  {
   "cell_type": "code",
   "execution_count": 3,
   "metadata": {
    "collapsed": false,
    "deletable": true,
    "editable": true
   },
   "outputs": [
    {
     "data": {
      "image/png": "[encoded data removed]",
      "text/plain": [
       "<matplotlib.figure.Figure at 0x7f68a9b72190>"
      ]
     },
     "metadata": {},
     "output_type": "display_data"
    }
   ],
   "source": [
    "# Define file-reader function:\n",
    "def read_file(filepath):\n",
    "    file_queue  = tf.train.string_input_producer( [ filepath ] )\n",
    "    file_reader = tf.WholeFileReader()\n",
    "    _, contents = file_reader.read( file_queue )\n",
    "    return contents\n",
    "\n",
    "# Create PNG image loader operation:\n",
    "load_op = tf.image.decode_png( read_file( 'data/tf.png' ) )\n",
    "\n",
    "# Create JPG image loader operation:\n",
    "# load_op = tf.image.decode_jpg( read_file( 'data/myimage.jpg' ) )\n",
    "\n",
    "# Create session:\n",
    "with tf.Session() as sess:\n",
    "    # Initialize global variables:\n",
    "    sess.run( tf.global_variables_initializer() )\n",
    "\n",
    "    # Start queue coordinator:\n",
    "    coord   = tf.train.Coordinator()\n",
    "    threads = tf.train.start_queue_runners( coord=coord )\n",
    "\n",
    "    # Run session on image loader op:\n",
    "    image = sess.run( load_op )\n",
    "    \n",
    "    # Terminate queue coordinator:\n",
    "    coord.request_stop()\n",
    "    coord.join( threads )\n",
    "    \n",
    "    # Show image:\n",
    "    imshow( np.asarray( image ) )"
   ]
  },
  {
   "cell_type": "code",
   "execution_count": null,
   "metadata": {
    "collapsed": true,
    "deletable": true,
    "editable": true
   },
   "outputs": [],
   "source": []
  }
 ],
 "metadata": {
  "kernelspec": {
   "display_name": "Python 2",
   "language": "python",
   "name": "python2"
  },
  "language_info": {
   "codemirror_mode": {
    "name": "ipython",
    "version": 2
   },
   "file_extension": ".py",
   "mimetype": "text/x-python",
   "name": "python",
   "nbconvert_exporter": "python",
   "pygments_lexer": "ipython2",
   "version": "2.7.6"
  }
 },
 "nbformat": 4,
 "nbformat_minor": 2
}
