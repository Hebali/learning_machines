{
 "cells": [
  {
   "cell_type": "markdown",
   "metadata": {
    "deletable": true,
    "editable": true
   },
   "source": [
    "# [Learning Machines](http://www.patrickhebron.com/learning-machines/index.html)\n",
    "\n",
    "###### Taught by [Patrick Hebron](http://www.patrickhebron.com) at [NYU/ITP](http://itp.nyu.edu), Fall 2017\n",
    "\n",
    "### TensorFlow Basics: \"Basic Operations\"\n",
    "\n",
    "****"
   ]
  },
  {
   "cell_type": "code",
   "execution_count": 1,
   "metadata": {
    "collapsed": true,
    "deletable": true,
    "editable": true
   },
   "outputs": [],
   "source": [
    "# Import TensorFlow library:\n",
    "import tensorflow as tf"
   ]
  },
  {
   "cell_type": "code",
   "execution_count": 2,
   "metadata": {
    "collapsed": false,
    "deletable": true,
    "editable": true
   },
   "outputs": [
    {
     "name": "stdout",
     "output_type": "stream",
     "text": [
      "5.0\n"
     ]
    }
   ],
   "source": [
    "# Create constants:\n",
    "X = tf.constant( 2.0 )\n",
    "Y = tf.constant( 3.0 )\n",
    "\n",
    "# Create addition operation:\n",
    "Z = tf.add( X, Y )\n",
    "\n",
    "# Create session:\n",
    "with tf.Session() as sess:\n",
    "    # Run session:\n",
    "    output = sess.run( Z )\n",
    "    # Print output:\n",
    "    print output"
   ]
  },
  {
   "cell_type": "code",
   "execution_count": 3,
   "metadata": {
    "collapsed": false,
    "deletable": true,
    "editable": true
   },
   "outputs": [
    {
     "name": "stdout",
     "output_type": "stream",
     "text": [
      "5.0\n",
      "9.0\n"
     ]
    }
   ],
   "source": [
    "# Create placeholders:\n",
    "X = tf.placeholder( tf.float32 )\n",
    "Y = tf.placeholder( tf.float32 )\n",
    "\n",
    "# Create addition operation:\n",
    "Z = tf.add( X, Y )\n",
    "\n",
    "# Create session:\n",
    "with tf.Session() as sess:\n",
    "    # Run session and print output:\n",
    "    print sess.run( Z, feed_dict={ X: 2.0, Y: 3.0 } )\n",
    "    # Run session and print output (with different input values):\n",
    "    print sess.run( Z, feed_dict={ X: 4.0, Y: 5.0 } )"
   ]
  },
  {
   "cell_type": "code",
   "execution_count": 4,
   "metadata": {
    "collapsed": false,
    "deletable": true,
    "editable": true
   },
   "outputs": [
    {
     "name": "stdout",
     "output_type": "stream",
     "text": [
      "[[ -26.    2.]\n",
      " [ 106.  -16.]]\n"
     ]
    }
   ],
   "source": [
    "# Create matrix constants:\n",
    "X = tf.constant( [ [ 2.0, -4.0, 6.0 ], [ 5.0, 7.0, -3.0 ] ] )\n",
    "Y = tf.constant( [ [ 8.0, -5.0 ], [ 9.0, 3.0 ], [ -1.0, 4.0 ] ] )\n",
    "\n",
    "# Create matrix multiplication operation:\n",
    "Z = tf.matmul( X, Y )\n",
    "\n",
    "# Create session:\n",
    "with tf.Session() as sess:\n",
    "    # Run session:\n",
    "    output = sess.run( Z )\n",
    "    # Print output:\n",
    "    print output"
   ]
  },
  {
   "cell_type": "code",
   "execution_count": null,
   "metadata": {
    "collapsed": true,
    "deletable": true,
    "editable": true
   },
   "outputs": [],
   "source": []
  }
 ],
 "metadata": {
  "kernelspec": {
   "display_name": "Python 2",
   "language": "python",
   "name": "python2"
  },
  "language_info": {
   "codemirror_mode": {
    "name": "ipython",
    "version": 2
   },
   "file_extension": ".py",
   "mimetype": "text/x-python",
   "name": "python",
   "nbconvert_exporter": "python",
   "pygments_lexer": "ipython2",
   "version": "2.7.6"
  }
 },
 "nbformat": 4,
 "nbformat_minor": 2
}
