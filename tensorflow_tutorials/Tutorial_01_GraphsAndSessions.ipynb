{
 "cells": [
  {
   "cell_type": "markdown",
   "metadata": {
    "deletable": true,
    "editable": true
   },
   "source": [
    "# [Learning Machines](http://www.patrickhebron.com/learning-machines/index.html)\n",
    "\n",
    "###### Taught by [Patrick Hebron](http://www.patrickhebron.com) at [NYU/ITP](http://itp.nyu.edu), Fall 2017\n",
    "\n",
    "### TensorFlow Basics: \"Graphs and Sessions\"\n",
    "\n",
    "****"
   ]
  },
  {
   "cell_type": "markdown",
   "metadata": {
    "deletable": true,
    "editable": true
   },
   "source": [
    "**Let's look at a simple arithmetic procedure in pure Python:**"
   ]
  },
  {
   "cell_type": "code",
   "execution_count": 1,
   "metadata": {
    "collapsed": false,
    "deletable": true,
    "editable": true
   },
   "outputs": [
    {
     "name": "stdout",
     "output_type": "stream",
     "text": [
      "5.0\n"
     ]
    }
   ],
   "source": [
    "# Create input constants:\n",
    "X = 2.0\n",
    "Y = 3.0\n",
    "\n",
    "# Perform addition:\n",
    "Z = X + Y\n",
    "\n",
    "# Print output:\n",
    "print Z"
   ]
  },
  {
   "cell_type": "markdown",
   "metadata": {
    "deletable": true,
    "editable": true
   },
   "source": [
    "**Now let's try to do the same thing using TensorFlow:**"
   ]
  },
  {
   "cell_type": "code",
   "execution_count": 2,
   "metadata": {
    "collapsed": false,
    "deletable": true,
    "editable": true
   },
   "outputs": [
    {
     "name": "stdout",
     "output_type": "stream",
     "text": [
      "TensorFlow Version: 1.0.0\n"
     ]
    }
   ],
   "source": [
    "# Import TensorFlow library:\n",
    "import tensorflow as tf\n",
    "\n",
    "# Print TensorFlow version, just for good measure:\n",
    "print( 'TensorFlow Version: ' + tf.VERSION )"
   ]
  },
  {
   "cell_type": "code",
   "execution_count": 3,
   "metadata": {
    "collapsed": false,
    "deletable": true,
    "editable": true
   },
   "outputs": [
    {
     "name": "stdout",
     "output_type": "stream",
     "text": [
      "Tensor(\"Add:0\", shape=(), dtype=float32)\n"
     ]
    }
   ],
   "source": [
    "# Create input constants:\n",
    "opX = tf.constant( 2.0 )\n",
    "opY = tf.constant( 3.0 )\n",
    "\n",
    "# Create addition operation:\n",
    "opZ = tf.add( opX, opY )\n",
    "\n",
    "# Print operation:\n",
    "print opZ"
   ]
  },
  {
   "cell_type": "markdown",
   "metadata": {
    "deletable": true,
    "editable": true
   },
   "source": [
    "**Where's the resulting value?**\n",
    "\n",
    "Notice that in the pure Python code, calling:\n",
    "\n",
    "```python \n",
    "print Z \n",
    "```\n",
    "\n",
    "prints the resulting value:\n",
    "\n",
    "```python \n",
    "5.0\n",
    "```\n",
    "\n",
    "But in the TensorFlow code, the ```print``` call gives us: \n",
    "\n",
    "```python\n",
    "Tensor(\"Add:0\", shape=(), dtype=float32)\n",
    "```\n",
    "\n",
    "TensorFlow uses a somewhat different programming model from what we're used to in conventional Python code.\n",
    "\n",
    "Here's a brief overview from the [TensorFlow Basic Usage](https://www.tensorflow.org/get_started/basic_usage) tutorial:\n",
    "\n",
    "**Overview:**\n",
    "\n",
    "TensorFlow is a programming system in which you represent computations as graphs. Nodes in the graph are called ops (short for operations). An op takes zero or more Tensors, performs some computation, and produces zero or more Tensors. A Tensor is a typed multi-dimensional array. For example, you can represent a mini-batch of images as a 4-D array of floating point numbers with dimensions [batch, height, width, channels].\n",
    "\n",
    "A TensorFlow graph is a description of computations. To compute anything, a graph must be launched in a Session. A Session places the graph ops onto Devices, such as CPUs or GPUs, and provides methods to execute them. These methods return tensors produced by ops as numpy ndarray objects in Python, and as tensorflow::Tensor instances in C and C++.\n",
    "\n",
    "TensorFlow programs are usually structured into a construction phase, that assembles a graph, and an execution phase that uses a session to execute ops in the graph.\n",
    "\n",
    "For example, it is common to create a graph to represent and train a neural network in the construction phase, and then repeatedly execute a set of training ops in the graph in the execution phase.\n",
    "\n",
    "**In other words:**\n",
    "\n",
    "The TensorFlow code above only assembles the graph to perform an addition operation on our two input constants.\n",
    "\n",
    "To actually run the graph and retrieve the output, we need to create a session and run the addition operation through it:"
   ]
  },
  {
   "cell_type": "code",
   "execution_count": 4,
   "metadata": {
    "collapsed": false,
    "deletable": true,
    "editable": true
   },
   "outputs": [
    {
     "name": "stdout",
     "output_type": "stream",
     "text": [
      "5.0\n"
     ]
    }
   ],
   "source": [
    "# Create input constants:\n",
    "opX = tf.constant( 2.0 )\n",
    "opY = tf.constant( 3.0 )\n",
    "\n",
    "# Create addition operation:\n",
    "opZ = tf.add( opX, opY )\n",
    "\n",
    "# Create session:\n",
    "with tf.Session() as sess:\n",
    "    # Run session:\n",
    "    Z = sess.run( opZ )\n",
    "    # Print output:\n",
    "    print Z"
   ]
  },
  {
   "cell_type": "code",
   "execution_count": null,
   "metadata": {
    "collapsed": true,
    "deletable": true,
    "editable": true
   },
   "outputs": [],
   "source": []
  }
 ],
 "metadata": {
  "kernelspec": {
   "display_name": "Python 2",
   "language": "python",
   "name": "python2"
  },
  "language_info": {
   "codemirror_mode": {
    "name": "ipython",
    "version": 2
   },
   "file_extension": ".py",
   "mimetype": "text/x-python",
   "name": "python",
   "nbconvert_exporter": "python",
   "pygments_lexer": "ipython2",
   "version": "2.7.6"
  }
 },
 "nbformat": 4,
 "nbformat_minor": 2
}
